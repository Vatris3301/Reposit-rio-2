{
  "nbformat": 4,
  "nbformat_minor": 0,
  "metadata": {
    "colab": {
      "provenance": [],
      "authorship_tag": "ABX9TyP0flp1CVi+9iqS78kMYmQ8",
      "include_colab_link": true
    },
    "kernelspec": {
      "name": "python3",
      "display_name": "Python 3"
    },
    "language_info": {
      "name": "python"
    }
  },
  "cells": [
    {
      "cell_type": "markdown",
      "metadata": {
        "id": "view-in-github",
        "colab_type": "text"
      },
      "source": [
        "<a href=\"https://colab.research.google.com/github/Vatris3301/Reposit-rio-2/blob/main/Untitled0.ipynb\" target=\"_parent\"><img src=\"https://colab.research.google.com/assets/colab-badge.svg\" alt=\"Open In Colab\"/></a>"
      ]
    },
    {
      "cell_type": "code",
      "execution_count": null,
      "metadata": {
        "id": "_TdD5oM3OSzD"
      },
      "outputs": [],
      "source": []
    },
    {
      "cell_type": "markdown",
      "source": [
        "Iniciando a proposta deste livro, que é construir um sistema de informação, declare as variáveis para o algoritmo de cadastramento de alunos, cujos dados são: nome, sexo, endereço, cidade, estado, CEP, telefone, data de nascimento, RG, nome do pai, nome da mãe e grau de escolaridade. Utilize pseudocódigo para representar as declarações....\n",
        "\n",
        "Xavier, Gley Fabiano Cardoso\n",
        "Lógica de programação\n",
        "E-book. Disponível em: https://bibliotecadigitalsenac.com.br/?from=busca%3FcontentInfo%3D1306%26term%3DL%2525C3%2525B3gica%252520de%252520Programa%2525C3%2525A7%2525C3%2525A3o#/legacy/epub/1306\n",
        "Acesso em 07/05/2024"
      ],
      "metadata": {
        "id": "LdlLgimVOXfE"
      }
    },
    {
      "cell_type": "markdown",
      "source": [
        "2.\tClassifique os dados segundo os tipos das variáveis (numéricos, literais ou lógicos) que irão armazená-los.\n",
        "\t\t\t\t\tVariáveis literais:\tnome do aluno, sexo, endereço, cidade, estado,\tnome do pai, nome da mãe.\n",
        "\t\t\t\t\tVariáveis numéricas:\ttelefone, CEP, RG, data de nascimento, grau de \tescolaridade.\n",
        "\t\t\t\t\tVariáveis lógicas:\tnenhum....\n",
        "\n",
        "Xavier, Gley Fabiano Cardoso\n",
        "Lógica de programação\n",
        "E-book. Disponível em: https://bibliotecadigitalsenac.com.br/?from=busca%3FcontentInfo%3D1306%26term%3DL%2525C3%2525B3gica%252520de%252520Programa%2525C3%2525A7%2525C3%2525A3o#/legacy/epub/1306\n",
        "Acesso em 07/05/2024"
      ],
      "metadata": {
        "id": "FuVC1pf4Ocqx"
      }
    },
    {
      "cell_type": "code",
      "source": [
        "NOME = input(\"Entre com o nome: \")\n",
        "SEXO = input(\"Sexo: \")\n",
        "ENDERECO = input(\"ENDERECO: \")\n",
        "CIDADE = input(\"Cidade: \")\n",
        "UF = input(\"UF: \")\n",
        "PAI = input(\"PAI: \")\n",
        "MAE = input(\"MAE: \")\n",
        "FONE = input(\"FONE: \")\n",
        "CEP = input('CEP: ')\n",
        "RG = input('RG: ')\n",
        "DATADENASCIMENTO = input('DATA DE NASCIMENTO: ')\n",
        "\n",
        "\n",
        "\n",
        "\n",
        "\n"
      ],
      "metadata": {
        "id": "RoIUsVeeQ9-C"
      },
      "execution_count": null,
      "outputs": []
    },
    {
      "cell_type": "markdown",
      "source": [],
      "metadata": {
        "id": "eJd7fMZOQ9a6"
      }
    }
  ]
}